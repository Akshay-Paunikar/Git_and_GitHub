{
 "cells": [
  {
   "cell_type": "markdown",
   "metadata": {},
   "source": [
    "### What is GIT?\n",
    "\n",
    "Git is a distributed version control system that tracks changes in any set of computer files, usually used for coordinating work among programmers who are collaboratively developing source code during software development. Its goals include speed, data integrity, and support for distributed, non-linear workflows. Version control means it is a content tracker. It will keep ongoing changes whatever you have done and save its timeline. Now, if you want to go back to a particular change you can revert back to it. So, this is a wonderful feature especially when you are working with a large team. Many people will be working with the source code. So, which member has did what type of changes in that particular source, all these information is shown by GIT. Hence, GIT actually handles your project to control and keep the content tracking live. "
   ]
  },
  {
   "cell_type": "markdown",
   "metadata": {},
   "source": [
    "### What is Version Control?\n",
    "\n",
    "Version Control is a system that records changes to a file or set of files over time so that you can recall specific versions later. It helps you compare the changes over time. You can see who modified the files and what bugs or problems occured after modification.\n",
    "\n",
    "VCS also generally means that if you screw things up or lose files, you can easily recover. It can recover an entire project also."
   ]
  },
  {
   "cell_type": "markdown",
   "metadata": {},
   "source": [
    "### Types of Version Control Systems?\n",
    "\n",
    " - <h4>Local Version Control Systems:</h4>\n",
    "\n",
    "It is used only for single machine. It records the changes happened to your local machine rather than a complete team. So, if you are working in a big team, it won't handle that changes. Think about Local Version Control System as controlling / tracking your own computer rather than an entire project when you work with a team.Hence, you are unable to collaborate with other programmers in the team. This is one of the drawbacks of Local Version Control Systems.\n",
    "\n",
    "It consists of simple DB, which records your day-to-day activities like copying files or changes to a particular code file or directories with a timestamp and this DB gets updated day-by-day. This is limited to one user only. Similarly, each user will have their own Local Version Control Systems.\n",
    "\n",
    " - <h4>Centralized Version Control Systems:</h4>\n",
    "\n",
    "To deal with the drawbacks of LVCS, Centralized Version Control Systems were developed. In CVCS, there will be a single server and whoever are the users will checkout inside that single server so that this single server will have all the versions of the code with a timestamp. So, users will know what changes has been made to the files by the other users in that particular team. Administrator will have a fine-grained control over the version control system which is a centralized server. It is used to monitor the day-to-day activities of developers in the single centralized server. \n",
    "\n",
    "The main drawback of this VCS is the single point of failure i.e. the centralized server. So, if centralized server goes down for a particular time, then nobody can collaborate with each other or keep any version changes that they are working. If the hard-drive of the centralized server gets corrupted or lost or damaged the entire project will be gone if proper backups are not taken. You might be able to recover some data but the entire project is hard to recover.\n",
    "\n",
    " - <h4>Distributed Version Control Systems:</h4>\n",
    "\n",
    "Today we are using Distributed Version Control Systems and GIT is one of the example. In DVCS, client don't just checkout the latest snapshots of files like CVCS. They fully mirror the repsitory including it's complete history. So, if one server goes down, then the sytems which were collaborating, at any point of time, the client repository files can be copied back to the server to restore it. \n",
    "\n",
    "For example, if there is a server and every user has mirrored it's content then if that server goes down, each user will have it's backups which can be copied / moved to CVCS and can be restored back easily. Here, each user is keeping a complete backup of the server or we call it as a remote server. This was a major advantage over CVCS.\n",
    "\n",
    "DVCS allows you to set up several types of workflows that were not possible in the CVCS. The mirroring in DVCS is also called as Cloning."
   ]
  },
  {
   "cell_type": "markdown",
   "metadata": {},
   "source": [
    "### States of GIT:\n",
    "\n",
    " - <b>Working Area (Modified):</b>\n",
    "\n",
    "Whatever modification that has been done to the files. You have done changes to your file but not committed to your DB yet. It means that till now the changes have be done but it has not kept any track till now. It is a place where changes are taking place.\n",
    "\n",
    " - <b>Staged Area:</b>\n",
    "\n",
    " After modification it goes into the staged area. After making changes, if you want to make it permanent or move the changes made to a file, you need to move them to staging area. It means that you have marked your file in it's current version. It is also a pre-commiting area.\n",
    "\n",
    " - <b>Commit:</b>\n",
    "\n",
    "Last step is Commit. It means that we are commiting the changes and moving file to main place. Data is safely stored in your local database."
   ]
  },
  {
   "cell_type": "markdown",
   "metadata": {},
   "source": [
    "### Why GIT?\n",
    "\n",
    " - Saves time\n",
    " - Work offline\n",
    " - Undo changes\n",
    " - Don't mix things up\n",
    " - Make useful commits"
   ]
  },
  {
   "cell_type": "markdown",
   "metadata": {},
   "source": [
    "### GIT Terminologies:\n",
    "\n",
    " - SCM: Source Code Manager\n",
    " - Repository: Directory containing your project related files or work that you have done. Exists in local or remote.\n",
    " - Working Directory: similar to a Repository.\n",
    " - Checkout: When content in the repository is copied into working directory.\n",
    " - Staging Area: Pre-commiting Area. The middle ground between what you have done to your files (also known as the working directory) and what you had last committed (the HEAD commit)\n",
    " - Commit: Commits can be thought of as snapshots or milestones along the timeline of a Git project.\n",
    " - SHA: Unique ID for each commit.\n",
    " - Branch: A branch represents an independent line of development."
   ]
  }
 ],
 "metadata": {
  "kernelspec": {
   "display_name": "Deep_Learning",
   "language": "python",
   "name": "python3"
  },
  "language_info": {
   "name": "python",
   "version": "3.9.18"
  }
 },
 "nbformat": 4,
 "nbformat_minor": 2
}
