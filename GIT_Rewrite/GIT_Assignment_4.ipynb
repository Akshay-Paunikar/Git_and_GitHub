{
 "cells": [
  {
   "cell_type": "markdown",
   "metadata": {},
   "source": [
    "### GIT Assignment - 4"
   ]
  },
  {
   "cell_type": "markdown",
   "metadata": {},
   "source": [
    "<b>1. How can new features be added to the main branch? What is a git conflict?</b>\n",
    "\n",
    "To add new features to the main branch in Git, follow these general steps:\n",
    "\n",
    "1. Create a new branch: Start a new branch from the main branch using the command git checkout -b new-feature.\n",
    "\n",
    "2. Make changes: Implement your new features on the new branch.\n",
    "\n",
    "3. Commit changes: Commit your changes using git commit -m \"Description of changes\".\n",
    "\n",
    "4. Switch to the main branch: Use git checkout main to switch back to the main branch.\n",
    "\n",
    "5. Update main branch: Pull the latest changes from the remote repository with git pull origin main.\n",
    "\n",
    "6. Merge branches: Merge your feature branch into the main branch with git merge new-feature.\n",
    "\n",
    "7. Resolve conflicts: If there are conflicts, Git will indicate them. Manually resolve conflicts in the affected files, then commit the changes.\n",
    "\n",
    "8. Push changes: Finally, push the changes to the remote repository using git push origin main.\n",
    "\n",
    "A Git conflict occurs when Git is unable to automatically merge changes from different branches. This happens when changes are made to the same part of a file in different branches. Manual intervention is required to resolve the conflict by selecting which changes to keep."
   ]
  },
  {
   "cell_type": "markdown",
   "metadata": {},
   "source": [
    "<b>2. How do I remove a branch from GIT?</b>\n",
    "\n",
    "To remove a branch from Git, use the following command:\n",
    "\n",
    " - git branch -d branch_name\n",
    "\n",
    "Replace branch_name with the name of the branch you want to delete. If the branch contains changes that haven't been merged, use -D instead of -d:\n",
    "\n",
    " - git branch -D branch_name"
   ]
  },
  {
   "cell_type": "markdown",
   "metadata": {},
   "source": [
    "<b>3. What is the purpose of the git checkout command?</b>\n",
    "\n",
    "The git checkout command in Git is used to switch between branches or restore files from a specific commit. It allows you to navigate through different snapshots of your project's history or move between branches."
   ]
  },
  {
   "cell_type": "markdown",
   "metadata": {},
   "source": [
    "<b>4. What is the purpose of the git commit command?</b>\n",
    "\n",
    "The git commit command is used to record changes made to the repository. It creates a new commit with a unique identifier, capturing the current state of files and a commit message describing the changes."
   ]
  },
  {
   "cell_type": "markdown",
   "metadata": {},
   "source": [
    "<b>5. What is the purpose of the command 'git rm'?</b>\n",
    "\n",
    "The git rm command is used to remove files or directories from a Git repository. It stages the removal of the specified files, and the changes are then committed to apply the deletion."
   ]
  },
  {
   "cell_type": "markdown",
   "metadata": {},
   "source": [
    "<b>6. What is the purpose of the git log command?</b>\n",
    "\n",
    "The git log command is used to display a detailed log of commit history in a Git repository. It shows information such as commit messages, authors, dates, and commit hashes, helping users track changes and understand the project's development timeline."
   ]
  },
  {
   "cell_type": "markdown",
   "metadata": {},
   "source": [
    "<b>7. What is the purpose of 'git add'?</b>\n",
    "\n",
    "The git add command is used to stage changes for the next commit in Git. It marks modified or new files to be included in the upcoming commit, preparing them for version control."
   ]
  },
  {
   "cell_type": "markdown",
   "metadata": {},
   "source": [
    "<b>8. In GIT, what is a 'bare repository'?</b>\n",
    "\n",
    "A \"bare repository\" in Git is a repository that contains only the version control information and the repository's history, without a working directory. It is typically used as a central repository for collaboration, where users can push and pull changes without modifying local files directly."
   ]
  },
  {
   "cell_type": "markdown",
   "metadata": {},
   "source": [
    "<b>9. What's the difference between git remote and git clone?</b>\n",
    "\n",
    " - git remote: Used to manage connections to remote repositories. It lists, adds, or removes remote repositories.\n",
    " - git clone: Used to create a copy of a remote repository on your local machine. It not only establishes a connection to the remote repository but also fetches the entire project history and working files."
   ]
  }
 ],
 "metadata": {
  "kernelspec": {
   "display_name": "Deep_Learning",
   "language": "python",
   "name": "python3"
  },
  "language_info": {
   "name": "python",
   "version": "3.9.18"
  }
 },
 "nbformat": 4,
 "nbformat_minor": 2
}
