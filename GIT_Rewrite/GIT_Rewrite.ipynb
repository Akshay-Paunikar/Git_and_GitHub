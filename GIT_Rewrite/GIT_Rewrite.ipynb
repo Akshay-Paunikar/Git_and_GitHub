{
 "cells": [
  {
   "cell_type": "markdown",
   "metadata": {},
   "source": [
    "### REBASING\n",
    "\n",
    "Rebasing is the process of taking one branch and adding it to the tip of another, where the tip is simply the last commit in the branch. Rebasing changes the history of your branch."
   ]
  },
  {
   "cell_type": "markdown",
   "metadata": {},
   "source": [
    "### INTERACTIVE REBASING\n",
    "\n",
    "Interactive Rebasing changes the history of your branch.\n",
    "\n",
    "Different options available:\n",
    "\n",
    " - Squash\n",
    " - Amend\n",
    " - Reword\n",
    " - Delete\n",
    " - Reorder\n",
    " - Split\n",
    " - Fixup\n",
    "\n",
    "Command:\n",
    "\n",
    " - git rebase -i HEAD~{number of commits from HEAD}"
   ]
  },
  {
   "cell_type": "markdown",
   "metadata": {},
   "source": [
    "### Cherry Picking in GIT\n",
    "\n",
    "Cherry Picking in GIT stands for applying some commit from one branch into another branch. When we do cherry picking:\n",
    "\n",
    " - Bring in changes from a specific commit\n",
    " - Choose one or commits\n",
    "\n",
    "Command:\n",
    "\n",
    " - git cherry-pick {SHA-id}"
   ]
  },
  {
   "cell_type": "markdown",
   "metadata": {},
   "source": []
  }
 ],
 "metadata": {
  "kernelspec": {
   "display_name": "Deep_Learning",
   "language": "python",
   "name": "python3"
  },
  "language_info": {
   "name": "python",
   "version": "3.9.18"
  }
 },
 "nbformat": 4,
 "nbformat_minor": 2
}
