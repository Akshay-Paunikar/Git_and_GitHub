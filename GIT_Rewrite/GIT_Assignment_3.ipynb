{
 "cells": [
  {
   "cell_type": "markdown",
   "metadata": {},
   "source": [
    "### GIT_Assignment - 3"
   ]
  },
  {
   "cell_type": "markdown",
   "metadata": {},
   "source": [
    "<b>1. What is git stockpile, and how does it work? How do you use it?</b>\n",
    "\n",
    "Stockpile is a protocol aware caching system which has been designed to temporarily store data from the Mojang API in order to prevent unnecessary requests and simplify tasks such as the retrieval of name associations.\n",
    "\n",
    "Specifically Stockpile provides:\n",
    "\n",
    " - Persisted name associations\n",
    "    - Within the default configuration, name associations will be stored for the maximum permitted time (e.g. names will not suddenly disappear when a player changes their name)\n",
    " - Rate limit management\n",
    "    - Especially on systems where multiple servers are running on the same physical machine, you may end up exceeding the rate limit of 600 requests per 10 minutes (or 1 request per minute for profiles) - Stockpile alleviates this issue by making the information globally accessible to all instances even when many implementations request information\n",
    " - Centralized Storage\n",
    "    - Stockpile provides a central point of storage and thus gets rid of the need to implement custom caching logic in your code\n",
    " - Events\n",
    "    - Automatically perform tasks within your infrastructure when new elements are written to the cache"
   ]
  },
  {
   "cell_type": "markdown",
   "metadata": {},
   "source": [
    "<b>2. Describe the various branching strategies.</b>\n",
    "\n",
    "1. Feature Branching:\n",
    "\n",
    " - Create a branch for each new feature.\n",
    " - Isolate development work for specific features.\n",
    " - Merge back into the main branch when the feature is complete.\n",
    "\n",
    "2. Gitflow Workflow:\n",
    "\n",
    " - Defines a strict branching model with specific branches for features, releases, and hotfixes.\n",
    " - Main branches include master, develop, feature, release, and hotfix branches.\n",
    "\n",
    "3. GitHub Flow:\n",
    "\n",
    " - Simplified workflow with a single branch (typically \"main\").\n",
    " - Commits trigger automated deployment.\n",
    " - Ideal for continuous delivery and quick releases.\n",
    "\n",
    "4. GitLab Flow:\n",
    "\n",
    " - Similar to GitHub Flow but includes additional protection branches for stability.\n",
    " - Uses protection rules on branches to control the flow of changes.\n",
    "\n",
    "5. Trunk-Based Development:\n",
    "\n",
    " - Keep the main branch (trunk) always deployable.\n",
    " - Developers commit directly to the main branch frequently.\n",
    " - Relies on feature toggles and short-lived branches for new features.\n",
    "\n",
    "6. Release Branching:\n",
    "\n",
    " - Create a branch for a stable release to fix bugs or make minor updates.\n",
    " - Helps maintain stability in the main branch while preparing for a release.\n",
    "\n",
    "7. Centralized Workflow:\n",
    "\n",
    " - Simplest approach with a single branch (usually \"master\").\n",
    " - Developers commit directly to the main branch or fork repositories for isolation.\n",
    "\n",
    "Each strategy has its own strengths and weaknesses, and the choice depends on the project's requirements, team size, and development workflow preferences."
   ]
  },
  {
   "cell_type": "markdown",
   "metadata": {},
   "source": [
    "<b>3. How do you remove data from Git without being removed from your system?</b>\n",
    "\n",
    "To remove data from Git without deleting it from your system, use the following commands:\n",
    "\n",
    "1. Untrack Files:\n",
    " - git rm --cached <file-name>\n",
    "\n",
    "2. Remove Untracked Files:\n",
    " - git clean -fdX\n",
    "    - \"-f\" -> Force the operation\n",
    "    - \"-d\" -> Remove untracked directories\n",
    "    - \"-X\" -> Only remove ignored files\n",
    "\n",
    "These commands untrack files from Git without deleting them from your local system. Make sure to commit and push the changes if needed."
   ]
  },
  {
   "cell_type": "markdown",
   "metadata": {},
   "source": [
    "<b>4. In Git, what does 'index' or 'hosting location' mean?</b>\n",
    "\n",
    "In Git:\n",
    "\n",
    "1. Index:\n",
    "\n",
    " - Also known as the \"staging area\" or \"cache.\"\n",
    " - Intermediate area where changes are prepared before committing.\n",
    " - Allows you to selectively stage and commit changes.\n",
    "\n",
    "2. Hosting Location:\n",
    "\n",
    " - Refers to the remote repository where the project is stored.\n",
    " - Common hosting locations include GitHub, GitLab, Bitbucket, etc.\n",
    " - Enables collaboration by providing a centralized location for code storage and version control."
   ]
  },
  {
   "cell_type": "markdown",
   "metadata": {},
   "source": [
    "<b>5. What is the difference between 'git remote' and 'git duplicate'?</b>\n",
    "\n",
    "As of my last knowledge update in January 2022, there is no standard Git command called 'git duplicate.' It's possible that it might be a custom alias or script created by users.\n",
    "\n",
    "However, 'git remote' is a valid Git command used to manage remote repositories. It allows you to view, add, or remove remote repositories associated with your local repository.\n",
    "\n",
    "If 'git duplicate' refers to a specific tool or command introduced after 2022, I recommend checking the latest Git documentation or relevant sources for the most up-to-date information."
   ]
  },
  {
   "cell_type": "markdown",
   "metadata": {},
   "source": [
    "<b>6. What is Git Remote's purpose?</b>\n",
    "\n",
    "The git remote command in Git is used to manage remote repositories. It allows users to view, add, or remove remote repositories associated with their local repository. This command helps facilitate collaboration by enabling interaction with repositories hosted on remote servers, such as GitHub or GitLab."
   ]
  },
  {
   "cell_type": "markdown",
   "metadata": {},
   "source": [
    "<b>7. How can I clear up a git reflog?</b>\n",
    "\n",
    "To clear up or prune entries in the Git reflog, you can use the following command:\n",
    "\n",
    " - git reflog expire --expire=now --all\n",
    "\n",
    "Followed by:\n",
    "\n",
    " - git gc --prune=now\n",
    "\n",
    "These commands expire and prune the reflog entries, freeing up space and removing older references. Note that this should be used with caution, especially if you have valuable references in the reflog."
   ]
  },
  {
   "cell_type": "markdown",
   "metadata": {},
   "source": [
    "<b>8. How can you distinguish between the git pull and git bring commands?</b>\n",
    "\n",
    "There is no widely recognized Git command called 'git bring.' It's possible that 'git bring' might refer to a custom alias or script created by users or a term used in a specific context.\n",
    "\n",
    "However, the standard Git command for pulling changes from a remote repository is 'git pull.' It fetches changes from a remote repository and merges them into the current branch."
   ]
  }
 ],
 "metadata": {
  "kernelspec": {
   "display_name": "Deep_Learning",
   "language": "python",
   "name": "python3"
  },
  "language_info": {
   "name": "python",
   "version": "3.9.18"
  }
 },
 "nbformat": 4,
 "nbformat_minor": 2
}
