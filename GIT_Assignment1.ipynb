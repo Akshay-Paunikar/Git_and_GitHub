{
 "cells": [
  {
   "cell_type": "markdown",
   "metadata": {},
   "source": [
    "### GIT Assignment 1"
   ]
  },
  {
   "cell_type": "markdown",
   "metadata": {},
   "source": [
    "<b>1. What is a git stash list?</b>\n",
    "\n",
    "git stash list is a Git command that displays a list of stashes in the repository. Stashes are used to temporarily save changes that are not ready to be committed, allowing you to switch to a different branch or apply the changes later. The command shows a numbered list of stashes, making it easy to reference or apply a specific stash."
   ]
  },
  {
   "cell_type": "markdown",
   "metadata": {},
   "source": [
    "<b>2. How do you get a list of all the files that have been updated in a given commit?</b>\n",
    "\n",
    "To get a list of all the files that have been updated in a given commit, you can use the following Git command:\n",
    "\n",
    "git diff --name-only {commit-hash}\n",
    "\n",
    "Replace {commit-hash} with the actual hash of the commit you are interested in. This command will display a list of filenames that were modified in that specific commit."
   ]
  },
  {
   "cell_type": "markdown",
   "metadata": {},
   "source": [
    "<b>3. What is a Git merge conflict?</b>\n",
    "\n",
    "A Git merge conflict occurs when Git is unable to automatically merge changes from different branches. It happens when conflicting changes are made to the same part of a file in the branches being merged. Resolving conflicts requires manual intervention by the user to decide how to combine or prioritize the conflicting changes."
   ]
  },
  {
   "cell_type": "markdown",
   "metadata": {},
   "source": [
    "<b>4. How do you distinguish between git fetch and git pull? How do you differentiate between Git Merge and Git Rebase?</b>\n",
    "\n",
    "git fetch vs. git pull:\n",
    "\n",
    " - git fetch retrieves changes from a remote repository but does not automatically merge them into your working branch.\n",
    " - git pull fetches changes from a remote repository and automatically merges them into your current branch.\n",
    "\n",
    "Git merge vs. Git rebase:\n",
    "\n",
    " - git merge combines changes from different branches, creating a new merge commit.\n",
    " - git rebase integrates changes by moving or combining a sequence of commits to a new base commit, creating a linear commit history. It does not create a new merge commit."
   ]
  },
  {
   "cell_type": "markdown",
   "metadata": {},
   "source": [
    "<b>5. What command uploads any GitHub repository to your computer using the git command?</b>\n",
    "\n",
    "To clone a GitHub repository to your computer using the Git command, you use:\n",
    "\n",
    "git clone {repository-url}\n",
    "\n",
    "Replace {repository-url} with the actual URL of the GitHub repository you want to clone."
   ]
  },
  {
   "cell_type": "markdown",
   "metadata": {},
   "source": [
    "<b>6. How do you write a commit message using the command? How do you push code in GitHub?</b>\n",
    "\n",
    "Write a commit message:\n",
    "\n",
    "Use the following command to write a commit message:\n",
    "\n",
    "git commit -m \"Your commit message here\"\n",
    "\n",
    "Push code to GitHub:\n",
    "\n",
    "After committing changes, use the following command to push code to GitHub:\n",
    "\n",
    "git push origin {branch-name}\n",
    "\n",
    "Replace {branch-name} with the name of the branch you want to push."
   ]
  },
  {
   "cell_type": "markdown",
   "metadata": {},
   "source": [
    "<b>7. How do you make a Git repository?</b>\n",
    "\n",
    "To create a Git repository, navigate to the desired project folder in your terminal and use the following command:\n",
    "\n",
    "git init\n",
    "\n",
    "This initializes a new Git repository in the current directory, enabling version control for your project."
   ]
  },
  {
   "cell_type": "markdown",
   "metadata": {},
   "source": [
    "<b>8. What is Git, and how does it work?</b>\n",
    "\n",
    "Git is a distributed version control system that tracks changes in source code during software development. It allows multiple developers to collaborate on a project by managing a history of changes. Here's a brief explanation of how Git works:\n",
    "\n",
    "<b>1. Repository:</b> Git stores project history and code changes in a repository, which can be local or remote.\n",
    "\n",
    "<b>2. Snapshots:</b> Instead of tracking file changes, Git captures snapshots of the entire project at different points in time, providing efficiency and speed.\n",
    "\n",
    "<b>3. Branching:</b> Developers can create branches to work on features or fixes independently. Branches can later be merged to incorporate changes into the main project.\n",
    "\n",
    "<b>4. Commits:</b> Developers make commits to save changes to the repository. Each commit has a unique identifier and contains information about what was changed.\n",
    "\n",
    "<b>5. Distributed:</b> Git is distributed, meaning each developer has a complete copy of the project and its history. This allows for offline work and collaboration without a central server.\n",
    "\n",
    "<b>6. Merge and Conflict Resolution:</b> Git handles merging changes from different branches. In case of conflicts, users resolve them manually, ensuring smooth collaboration.\n",
    "\n",
    "<b>7. Remote Repositories:</b> Developers can push changes to a remote repository (e.g., on GitHub). This facilitates collaboration among team members and provides a centralized location for the project.\n",
    "\n",
    "Overall, Git provides a robust and flexible version control system for managing collaborative software development projects."
   ]
  }
 ],
 "metadata": {
  "language_info": {
   "name": "python"
  }
 },
 "nbformat": 4,
 "nbformat_minor": 2
}
