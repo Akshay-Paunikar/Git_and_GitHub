{
 "cells": [
  {
   "cell_type": "markdown",
   "metadata": {},
   "source": [
    "### TAGGING\n",
    "\n",
    "Tagging is a mechanism used to create a snapshot of a Git repository. Tagging is traditionally used to create semantic version number identifier tags that corresponds to software release cycles.\n",
    "\n",
    "There are 2 types of tagging:\n",
    "\n",
    " - Annotated Tags: All the detailed description of tags including author, timestamp, comments etc.\n",
    "   - git tag -a {version number}\n",
    "   - git tag -a {version number} {SHAID}\n",
    " - Lightweight Tags: Only a tag will be created.\n",
    "   - git tag {version number}\n",
    "\n",
    "To show tags use following command:\n",
    " - git tag\n",
    "\n",
    "To delete a tag use following command:\n",
    " - git tag -d {version number}"
   ]
  },
  {
   "cell_type": "markdown",
   "metadata": {},
   "source": []
  }
 ],
 "metadata": {
  "kernelspec": {
   "display_name": "Deep_Learning",
   "language": "python",
   "name": "python3"
  },
  "language_info": {
   "name": "python",
   "version": "3.9.18"
  }
 },
 "nbformat": 4,
 "nbformat_minor": 2
}
