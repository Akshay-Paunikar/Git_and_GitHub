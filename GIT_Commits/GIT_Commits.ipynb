{
 "cells": [
  {
   "cell_type": "markdown",
   "metadata": {},
   "source": [
    "### TAGGING\n",
    "\n",
    "Tagging is a mechanism used to create a snapshot of a Git repository. Tagging is traditionally used to create semantic version number identifier tags that corresponds to software release cycles.\n",
    "\n",
    "There are 2 types of tagging:\n",
    "\n",
    " - Annotated Tags: All the detailed description of tags including author, timestamp, comments etc.\n",
    "   - git tag -a {version number}\n",
    "   - git tag -a {version number} {SHAID}\n",
    " - Lightweight Tags: Only a tag will be created.\n",
    "   - git tag {version number}\n",
    "\n",
    "To show tags use following command:\n",
    " - git tag\n",
    "\n",
    "To delete a tag use following command:\n",
    " - git tag -d {version number}"
   ]
  },
  {
   "cell_type": "markdown",
   "metadata": {},
   "source": [
    "### BRANCHING\n",
    "\n",
    "Branches allow you to work on different parts of a project without impacting the main branch. When the work is complete, a branch can be merged with the main project.\n",
    "\n",
    "You can even switch between branches and work on different projects without them interfering with each other.\n",
    "\n",
    "To create a branch use following command:\n",
    "\n",
    " - git branch {branch-name}\n",
    "\n",
    "To switch between branches use following command:\n",
    "\n",
    " - git checkout {branch-name}\n",
    " - git switch {branch-name} [Applicable to git version > 2.23]             \n",
    "\n",
    "To create a branch and switch use following command:\n",
    "\n",
    " - git checkout -b {branch-name}\n",
    " - git switch -c {branch-name} [Applicable to git version > 2.23]\n",
    "\n",
    "To delete a branch use following command (first make sure you have switched to a branch that you do not want to delete):\n",
    "\n",
    " - git branch -d {branch-name}"
   ]
  },
  {
   "cell_type": "markdown",
   "metadata": {},
   "source": [
    "### GIT Branching Tutorial\n",
    "\n",
    " - Step 1: Go to the directory my_calculator\n",
    " - Step 2: create a new branch with name as dev: git checkout -b dev\n",
    " - Step 3: use command start .\n",
    " - Step 4: look for the file app.py\n",
    " - Step 5: use command vi app.py to edit the file and add some comments\n",
    " - Step 6: open the folder in a VSCode\n",
    " - Step 7: commit the edited file\n",
    " - Step 8: now switch to master branch. you will see that the comments are gone\n",
    " - Step 9: create a new file config.py in dev branch\n",
    " - Step 10: now switch again to master branch. the file is not visible in master branch\n",
    "\n",
    "This is how you can work on developments, bug fixes or any other operation that you want without affecting the master branch files."
   ]
  },
  {
   "cell_type": "markdown",
   "metadata": {},
   "source": [
    "### MERGING\n",
    "\n",
    "Merging takes the contents of the source branch and integrates them with a target branch. In merging only the target branch is changed. The source branch history remains the same.\n",
    "\n",
    " - Fast Forward Merge\n",
    " - Regular Merge\n",
    "\n",
    "To merge the changes use following command:\n",
    "\n",
    " - git merge {branch-name}"
   ]
  },
  {
   "cell_type": "markdown",
   "metadata": {},
   "source": [
    "### MERGING CONFLICTS\n",
    "\n",
    "\"merge conflicts\" can occur in the process of integrating commits from a different source of branch. When a merge cannot be fully performed automatically then a merge conflict takes place.\n",
    "\n",
    "Git will try to combine as much as it can, but then it will leave special markers {e.g. >>> and <<<}\n",
    "\n"
   ]
  }
 ],
 "metadata": {
  "kernelspec": {
   "display_name": "Deep_Learning",
   "language": "python",
   "name": "python3"
  },
  "language_info": {
   "name": "python",
   "version": "3.9.18"
  }
 },
 "nbformat": 4,
 "nbformat_minor": 2
}
