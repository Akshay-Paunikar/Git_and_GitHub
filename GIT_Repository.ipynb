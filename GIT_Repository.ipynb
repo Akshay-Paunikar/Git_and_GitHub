{
 "cells": [
  {
   "cell_type": "markdown",
   "metadata": {},
   "source": [
    "### Git Repository\n",
    "A repository is the most basic element of GitHub. It's a place where you can store your code, your files, and each file's revision history. Repositories can have multiple collaborators and can be either public or private.\n",
    "\n",
    "A software repository is the centralized storage location for software packages. In Git there are 2 types of repsitory:\n",
    " \n",
    " - Local Repository - which stays in your local machine. We know most of the operation will be done in local repository.\n",
    " - Remote Repository - centralized storage location. All the changes will be pushed/pulled to/from this repository.\n",
    "\n",
    "#### Repository terminology:\n",
    "\n",
    " - <b>Branch:</b> A parallel version of your code that is contained within the repository, but does not affect the primary or main branch.\n",
    " - <b>Clone:</b> To download a full copy of a repository's data from GitHub.com, including all versions of every file and folder.\n",
    " - <b>Fork:</b> A new repository that shares code and visibility settings with the original \"upstream\" repository.\n",
    " - <b>Merge:</b> To take the changes from one branch and apply them to another.\n",
    " - <b>Pull Request:</b> A request to merge changes from one branch into another.\n",
    " - <b>Remote:</b> A repository stored on GitHub, not on your computer.\n",
    " - <b>Upstream:</b> The branch on an original repository that has been forked or cloned. The corresponding branch on the cloned or forked branch is called the \"downstream.\""
   ]
  },
  {
   "cell_type": "markdown",
   "metadata": {},
   "source": [
    "### Creating Repositories in GIT\n",
    "\n",
    "There are two ways in which repository can be created:\n",
    "\n",
    " - Initializing a GIT repository in Local Machine\n",
    " - Cloning a Remote Repository\n",
    "\n",
    " https://github.com/sourangshupal/my_calculator.git"
   ]
  },
  {
   "cell_type": "markdown",
   "metadata": {},
   "source": [
    "### Check Repository History\n",
    "\n",
    " - Show all commits\n",
    " - Checking the logs of repo\n",
    " - View modified files\n",
    " - View file changes\n",
    " - View a specific commit"
   ]
  },
  {
   "cell_type": "markdown",
   "metadata": {},
   "source": [
    "### Doing Commits\n",
    "\n",
    " - What are commits?\n",
    " - GIT add\n",
    " - GIT commit\n",
    " - Commit Messages"
   ]
  },
  {
   "cell_type": "markdown",
   "metadata": {},
   "source": []
  }
 ],
 "metadata": {
  "kernelspec": {
   "display_name": "Deep_Learning",
   "language": "python",
   "name": "python3"
  },
  "language_info": {
   "name": "python",
   "version": "3.9.18"
  }
 },
 "nbformat": 4,
 "nbformat_minor": 2
}
