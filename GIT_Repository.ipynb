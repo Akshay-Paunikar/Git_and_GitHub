{
 "cells": [
  {
   "cell_type": "markdown",
   "metadata": {},
   "source": [
    "### Git Repository\n",
    "A repository is the most basic element of GitHub. It's a place where you can store your code, your files, and each file's revision history. Repositories can have multiple collaborators and can be either public or private.\n",
    "\n",
    "A software repository is the centralized storage location for software packages. In Git there are 2 types of repsitory:\n",
    " \n",
    " - Local Repository - which stays in your local machine. We know most of the operation will be done in local repository.\n",
    " - Remote Repository - centralized storage location. All the changes will be pushed/pulled to/from this repository.\n",
    "\n",
    "#### Repository terminology:\n",
    "\n",
    " - <b>Branch:</b> A parallel version of your code that is contained within the repository, but does not affect the primary or main branch.\n",
    " - <b>Clone:</b> To download a full copy of a repository's data from GitHub.com, including all versions of every file and folder.\n",
    " - <b>Fork:</b> A new repository that shares code and visibility settings with the original \"upstream\" repository.\n",
    " - <b>Merge:</b> To take the changes from one branch and apply them to another.\n",
    " - <b>Pull Request:</b> A request to merge changes from one branch into another.\n",
    " - <b>Remote:</b> A repository stored on GitHub, not on your computer.\n",
    " - <b>Upstream:</b> The branch on an original repository that has been forked or cloned. The corresponding branch on the cloned or forked branch is called the \"downstream.\""
   ]
  },
  {
   "cell_type": "markdown",
   "metadata": {},
   "source": [
    "### Creating Repositories in GIT\n",
    "\n",
    "There are two ways in which repository can be created:\n",
    "\n",
    " - Initializing a GIT repository in Local Machine\n",
    " - Cloning a Remote Repository\n",
    "\n",
    " https://github.com/sourangshupal/my_calculator.git"
   ]
  },
  {
   "cell_type": "markdown",
   "metadata": {},
   "source": [
    "### Check Repository History\n",
    "\n",
    " - Show all commits - git log / git show\n",
    " - Checking the logs of repo - git log --patch / git log -p\n",
    " - View modified files - git status\n",
    " - View file changes - git status\n",
    " - View a specific commit - git show {SHA-ID} / git log -p {SHA-ID}"
   ]
  },
  {
   "cell_type": "markdown",
   "metadata": {},
   "source": [
    "### Doing Commits\n",
    "\n",
    " - What are commits?\n",
    " - GIT add - git add {filename} / git add .\n",
    " - GIT commit - git commit\n",
    " - Commit Messages - git commit -m \"{Your Commit Message}\""
   ]
  },
  {
   "cell_type": "markdown",
   "metadata": {},
   "source": [
    "### GIT DIFF\n",
    "\n",
    "The git diff is a multi-function Git Command, which is used to compare changes commited in Git. Particularly with the help of this command, you can take two input data sets and output the modifications between them."
   ]
  },
  {
   "cell_type": "markdown",
   "metadata": {},
   "source": [
    "### GIT RESTORE\n",
    "\n",
    "The \"git restore\" command helps to unstage or even discard uncommited local changes.\n",
    "\n",
    "<b>Arguments:</b>\n",
    "\n",
    "--staged: it removes the file from the staging area but leaves its actual modifications untouched."
   ]
  },
  {
   "cell_type": "markdown",
   "metadata": {},
   "source": [
    "### .GITIGNORE\n",
    "\n",
    "The .gitignore file is a text file that tells Git which files or folders to ignore in a project. A local .gitignore file is usually placed in the root directory of a project.\n",
    "\n",
    "The entries in this file can also follow a matching pattern.\n",
    "\n",
    " - * is used as a wild card\n",
    " - \"#\" is used to add comments to .gitignore file"
   ]
  },
  {
   "cell_type": "markdown",
   "metadata": {},
   "source": []
  }
 ],
 "metadata": {
  "kernelspec": {
   "display_name": "Deep_Learning",
   "language": "python",
   "name": "python3"
  },
  "language_info": {
   "name": "python",
   "version": "3.9.18"
  }
 },
 "nbformat": 4,
 "nbformat_minor": 2
}
