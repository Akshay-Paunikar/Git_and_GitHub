{
 "cells": [
  {
   "cell_type": "markdown",
   "metadata": {},
   "source": [
    "<b>1. What does the command 'git status' do?</b>\n",
    "\n",
    "The 'git status' command shows the current status of your Git repository, including information about tracked and untracked files, changes to be committed, and branch information."
   ]
  },
  {
   "cell_type": "markdown",
   "metadata": {},
   "source": [
    "<b>2. How to delete a Git local branch?</b>\n",
    "\n",
    "To delete a Git local branch, you can use the following command:\n",
    "\n",
    " - git branch -d branch_name\n",
    "\n",
    "Replace \"branch_name\" with the name of the branch you want to delete. If the branch has unmerged changes, you might need to use -D instead of -d:\n",
    "\n",
    " - git branch -D branch_name"
   ]
  },
  {
   "cell_type": "markdown",
   "metadata": {},
   "source": [
    "<b>3. How can I add a project to Git that already exists?</b>\n",
    "\n",
    "To add an existing project to Git, navigate to the project's directory and use the following commands:\n",
    "\n",
    "git init\n",
    "\n",
    "git add .\n",
    "\n",
    "git commit -m \"Initial commit\"\n",
    "\n",
    "This initializes a new Git repository, stages all existing files, and makes an initial commit with a message."
   ]
  },
  {
   "cell_type": "markdown",
   "metadata": {},
   "source": [
    "<b>4. What exactly is a Git fork? What are the distinctions between a fork, a branch, and a clone?</b>\n",
    "\n",
    "A Git fork is a copy of a repository, including all of its code, branches, and commit history. It typically refers to copying a repository on a platform like GitHub, allowing for independent development without affecting the original repository.\n",
    "\n",
    "Distinctions:\n",
    "\n",
    "1. Fork: A fork is a copy of a repository, usually on a platform like GitHub. It enables independent development and contribution without affecting the original repository.\n",
    "\n",
    "2. Branch: A branch is a divergent line of development within a repository. It allows you to work on a specific feature or fix without affecting the main codebase. Branches exist within the same repository.\n",
    "\n",
    "3. Clone: Cloning is the process of creating a copy of a repository, including all of its code and commit history. It's typically done to obtain a local copy of a remote repository for development or collaboration.\n",
    "\n",
    "In summary, forking is about creating an independent copy of a repository on a platform, branching is about divergent development within the same repository, and cloning is about creating a local copy of a repository."
   ]
  },
  {
   "cell_type": "markdown",
   "metadata": {},
   "source": [
    "<b>5. What is the difference between HEAD, working tree, and index in GIT?</b>\n",
    "\n",
    "In Git:\n",
    "\n",
    "1. HEAD: Points to the latest commit in the current branch. It represents the snapshot of your last commit and is a reference to the tip of the branch you have checked out.\n",
    "\n",
    "2. Working Tree: The working directory where you modify files. It contains the actual files and changes you are currently working on. It may or may not match the last commit.\n",
    "\n",
    "3. Index (Staging Area): An intermediate area that stores changes you want to commit. It acts as a bridge between the working tree and the repository. Files in the index are ready to be committed, but the actual commit is a separate step."
   ]
  },
  {
   "cell_type": "markdown",
   "metadata": {},
   "source": [
    "<b>6. Which GIT command is used to change branches?</b>\n",
    "\n",
    "The Git command used to change branches is:\n",
    "\n",
    " - git checkout branch_name\n",
    "\n",
    "or, in more recent versions of Git:\n",
    "\n",
    " - git switch branch_name"
   ]
  },
  {
   "cell_type": "markdown",
   "metadata": {},
   "source": [
    "<b>7. What is the difference between GitHub and Git?</b>\n",
    "\n",
    "Git is a distributed version control system that allows multiple developers to collaborate on a project, tracking changes in source code during software development. It works locally on a user's machine.\n",
    "\n",
    "GitHub, on the other hand, is a web-based platform that provides hosting for Git repositories. It adds a collaborative layer to Git, offering features like remote repository hosting, collaboration tools, issue tracking, and pull requests. GitHub is a service built around Git to facilitate collaboration and project management."
   ]
  },
  {
   "cell_type": "markdown",
   "metadata": {},
   "source": [
    "<b>8. What are some of the advantages of using the Variation Control System? Which programming language is used in Git?</b>\n",
    "\n",
    "Advantages of Version Control System (VCS):\n",
    "\n",
    "1. Collaboration: Enables multiple developers to work on a project concurrently.\n",
    "\n",
    "2. History Tracking: Maintains a detailed history of changes, making it easy to revert to previous states or track the evolution of the codebase.\n",
    "\n",
    "3. Branching and Merging: Supports parallel development by allowing users to work on isolated branches and later merge changes.\n",
    "\n",
    "4. Backup and Recovery: Serves as a backup, reducing the risk of data loss, and provides a mechanism for disaster recovery.\n",
    "\n",
    "5. Conflict Resolution: Helps in managing and resolving conflicts that may arise when multiple developers modify the same code simultaneously.\n",
    "\n",
    "Programming language used in Git:\n",
    "\n",
    " - Git is primarily implemented in the C programming language."
   ]
  },
  {
   "cell_type": "markdown",
   "metadata": {},
   "source": [
    "<b>9. List out some Git repository features.</b>\n",
    "\n",
    "Git repositories have several features that facilitate version control and collaboration:\n",
    "\n",
    "1. Branching and Merging: Supports the creation of branches for parallel development and provides tools for merging changes between branches.\n",
    "\n",
    "2. History Tracking: Maintains a complete history of changes, including commit messages, timestamps, and the details of modifications.\n",
    "\n",
    "3. Collaboration: Enables multiple developers to work on the same project, tracking changes and facilitating collaboration.\n",
    "\n",
    "4. Distributed Development: Allows each developer to have a local copy of the entire repository, promoting distributed development and offline work.\n",
    "\n",
    "5. Staging Area (Index): Provides an intermediate area (staging or index) to selectively choose which changes to include in the next commit.\n",
    "\n",
    "6. Remote Repositories: Supports the use of remote repositories for sharing code with others, such as on platforms like GitHub, GitLab, or Bitbucket.\n",
    "\n",
    "7. Conflict Resolution: Offers tools for resolving conflicts that may arise when multiple developers modify the same code.\n",
    "\n",
    "8. Tagging: Allows for the creation of tags to mark specific points in the commit history, often used to denote release versions.\n",
    "\n",
    "9. Submodules: Permits the inclusion of other Git repositories within a Git repository, enabling the management of external dependencies.\n",
    "\n",
    "10. Hooks: Enables the use of hooks, which are scripts that can be triggered at certain points in the Git workflow, allowing for custom actions.\n",
    "\n",
    "These features collectively make Git a powerful and flexible version control system for source code management."
   ]
  }
 ],
 "metadata": {
  "language_info": {
   "name": "python"
  }
 },
 "nbformat": 4,
 "nbformat_minor": 2
}
