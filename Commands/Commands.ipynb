{
 "cells": [
  {
   "cell_type": "markdown",
   "metadata": {},
   "source": [
    "### REMOTE REPOSITORIES\n",
    "\n",
    "Remote repositories are versions of your project that are hosted on the internet of network somewhere.\n",
    "\n",
    "Examples:\n",
    " - GitHub, Bitbucket etc."
   ]
  },
  {
   "cell_type": "markdown",
   "metadata": {},
   "source": [
    "### CLONING REPOSITORIES\n",
    "\n",
    "git clone is a Git command line utility which is used to target an existing repository and create a clone or copy of the target repository. Git supports a few network protocols to connect to remote reps like connection strings, ssh links etc."
   ]
  },
  {
   "cell_type": "markdown",
   "metadata": {},
   "source": []
  }
 ],
 "metadata": {
  "kernelspec": {
   "display_name": "Deep_Learning",
   "language": "python",
   "name": "python3"
  },
  "language_info": {
   "name": "python",
   "version": "3.9.18"
  }
 },
 "nbformat": 4,
 "nbformat_minor": 2
}
