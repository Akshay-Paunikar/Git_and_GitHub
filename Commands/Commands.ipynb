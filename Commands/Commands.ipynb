{
 "cells": [
  {
   "cell_type": "markdown",
   "metadata": {},
   "source": [
    "### REMOTE REPOSITORIES\n",
    "\n",
    "Remote repositories are versions of your project that are hosted on the internet of network somewhere.\n",
    "\n",
    "Examples:\n",
    " - GitHub, Bitbucket etc."
   ]
  },
  {
   "cell_type": "markdown",
   "metadata": {},
   "source": [
    "### CLONING REPOSITORIES\n",
    "\n",
    "git clone is a Git command line utility which is used to target an existing repository and create a clone or copy of the target repository. Git supports a few network protocols to connect to remote reps like connection strings, ssh links etc.\n",
    "\n",
    "Use https links from Github, see below example:\n",
    "\n",
    " - git clone https://github.com/TheAlgorithms/Python.git\n",
    "\n",
    "Use ssh links (first generate SSH key for windows/linux/Mac):\n",
    "\n",
    " - git clone git@github.com:TheAlgorithms/Python.git\n",
    "\n",
    "Download the zip file and use git init"
   ]
  },
  {
   "cell_type": "markdown",
   "metadata": {},
   "source": [
    "### Working with REMOTE REPOSITORIES\n",
    "\n",
    "List all remotes\n",
    "\n",
    " - git remote -v\n",
    "\n",
    "Adding remotes\n",
    "\n",
    " - git remote add origin {link (https/ssh)}\n",
    "\n",
    "Deleting Remotes\n",
    "\n",
    " - git remote remove origin {name}\n",
    " - manually edit .git/config file"
   ]
  },
  {
   "cell_type": "markdown",
   "metadata": {},
   "source": [
    "### Pushing in GitHub Failed\n",
    "\n",
    "git push updated the remote branch with the local branch.\n",
    "\n",
    "After you make and commit changes locally, you can share them with the remote repository using git push. Pushing changes to your remote makes your commits accesible to the others who you may be collaborating with. For example:\n",
    "\n",
    " - git push -u origin main"
   ]
  },
  {
   "cell_type": "markdown",
   "metadata": {},
   "source": [
    "### Personal Access Token Setup in Windows\n",
    "\n",
    "Before pushing any code from local to remote repository we need to setup the Personal Access Token in GitHub.\n",
    "\n",
    "Personal Access Tokens (PATs) are an alternative to using passwords for authentication to GitHub when using the GitHub API or the command line."
   ]
  },
  {
   "cell_type": "markdown",
   "metadata": {},
   "source": [
    "### PULL REQUESTS\n",
    "\n",
    "Pull requests let you tell others about changes you've pushed to a branch in a repository on GitHub. Once a pull request is opened, you can discuss and review the potential changes with collaborators and add follow-up commits before your changes are merged into the base branch."
   ]
  },
  {
   "cell_type": "markdown",
   "metadata": {},
   "source": [
    "### FETCHING & PULLING\n",
    "\n",
    "git fetch is a command that allows you to download objects from another repository.\n",
    "\n",
    "git pull is a command that allows you to fetch from and integrate with another repository or local branch.\n",
    "\n",
    "git pull is actually a git fetch followed by an additional actions - typically git merge."
   ]
  },
  {
   "cell_type": "markdown",
   "metadata": {},
   "source": [
    "### FORKS\n",
    "\n",
    "A fork is a copy of a repository. Forking a repository allows you to freely experiment with chnages without affecting the original project. Reasons for forking the repository:\n",
    "\n",
    " - Propose changes to someone's project\n",
    " - Use an existing project as a starting point."
   ]
  }
 ],
 "metadata": {
  "kernelspec": {
   "display_name": "Deep_Learning",
   "language": "python",
   "name": "python3"
  },
  "language_info": {
   "name": "python",
   "version": "3.9.18"
  }
 },
 "nbformat": 4,
 "nbformat_minor": 2
}
