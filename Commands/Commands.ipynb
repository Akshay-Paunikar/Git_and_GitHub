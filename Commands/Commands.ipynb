{
 "cells": [
  {
   "cell_type": "markdown",
   "metadata": {},
   "source": [
    "### REMOTE REPOSITORIES\n",
    "\n",
    "Remote repositories are versions of your project that are hosted on the internet of network somewhere.\n",
    "\n",
    "Examples:\n",
    " - GitHub, Bitbucket etc."
   ]
  },
  {
   "cell_type": "markdown",
   "metadata": {},
   "source": [
    "### CLONING REPOSITORIES\n",
    "\n",
    "git clone is a Git command line utility which is used to target an existing repository and create a clone or copy of the targrt repository. Git supports a few network protocols to connect to remote reps like connection strings, ssh links etc."
   ]
  },
  {
   "cell_type": "markdown",
   "metadata": {},
   "source": []
  }
 ],
 "metadata": {
  "language_info": {
   "name": "python"
  }
 },
 "nbformat": 4,
 "nbformat_minor": 2
}
