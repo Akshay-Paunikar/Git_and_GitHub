{
 "cells": [
  {
   "cell_type": "markdown",
   "metadata": {},
   "source": [
    "### REMOTE REPOSITORIES\n",
    "\n",
    "Remote repositories are versions of your project that are hosted on the internet of network somewhere."
   ]
  },
  {
   "cell_type": "markdown",
   "metadata": {},
   "source": []
  }
 ],
 "metadata": {
  "language_info": {
   "name": "python"
  }
 },
 "nbformat": 4,
 "nbformat_minor": 2
}
