{
 "cells": [
  {
   "cell_type": "markdown",
   "metadata": {},
   "source": [
    "### Modify Recent Commits\n",
    "\n",
    "Git provides you the option to amend the last commit using:\n",
    " - git commit --amend\n",
    "\n",
    "Modifying the last commit\n",
    " - Helps in editing the commit message\n",
    " - You can add forgotten files in the last commit"
   ]
  },
  {
   "cell_type": "markdown",
   "metadata": {},
   "source": [
    "### GIT REVERT\n",
    "\n",
    "git revert undoes the changes made by a previous commit by creating an entirely new commit, all without altering the history of commits.\n",
    "\n",
    "If a character is added in commit A, if git reverts commit A, then git will make a new commit where that character is deleted.\n",
    "\n",
    " - git revert {SHAID}"
   ]
  },
  {
   "cell_type": "markdown",
   "metadata": {},
   "source": [
    "### GIT CHECKOUT\n",
    "\n",
    "git checkout {commitid} means that you take any given commit from the repository and re-create the state of the asscociated file and directory tree. You can also switch branches. You can also create and switch a branch instantly."
   ]
  },
  {
   "cell_type": "markdown",
   "metadata": {},
   "source": [
    "### GIT RESET\n",
    "\n",
    "The git reset command is used to reset the changes. It allows you to shape history or crafting commits.\n",
    "\n",
    "3 different modes:\n",
    "\n",
    " - Soft: used to unstage the files which we have staged using the git add command.\n",
    " - Mixed: used to remove the files which we have committed using the git command.\n",
    " - Hard: used to remove all things which we have pushed in our code."
   ]
  },
  {
   "cell_type": "markdown",
   "metadata": {},
   "source": [
    "### STASHING\n",
    "\n",
    "Stashing saves a copy of your uncommited changes i.e. working area and staging area in a queue off to the side of your project.\n",
    "\n",
    "Example: git stash"
   ]
  },
  {
   "cell_type": "markdown",
   "metadata": {},
   "source": []
  }
 ],
 "metadata": {
  "language_info": {
   "name": "python"
  }
 },
 "nbformat": 4,
 "nbformat_minor": 2
}
