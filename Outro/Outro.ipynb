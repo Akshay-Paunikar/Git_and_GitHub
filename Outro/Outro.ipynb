{
 "cells": [
  {
   "cell_type": "markdown",
   "metadata": {},
   "source": [
    "### Modify Recent Commits\n",
    "\n",
    "Git provides you the option to amend the last commit using:\n",
    " - git commit --amend\n",
    "\n",
    "Modifying the last commit\n",
    " - Helps in editing the commit message\n",
    " - You can add forgotten files in the last commit"
   ]
  },
  {
   "cell_type": "markdown",
   "metadata": {},
   "source": [
    "### GIT REVERT\n",
    "\n",
    "git revert undoes the changes made by a previous commit by creating an entirely new commit, all without altering the history of commits.\n",
    "\n",
    "If a character is added in commit A, if git reverts commit A, then git will make a new commit where that character is deleted.\n",
    "\n",
    " - git revert {SHAID}"
   ]
  },
  {
   "cell_type": "markdown",
   "metadata": {},
   "source": [
    "### GIT CHECKOUT\n",
    "\n",
    "git checkout {commitid} means that you take any given commit from the repository and re-create the state of the asscociated file and directory tree. You can also switch branches. You can also create and switch a branch instantly."
   ]
  },
  {
   "cell_type": "markdown",
   "metadata": {},
   "source": [
    "### GIT RESET\n",
    "\n",
    "The git reset command is used to reset the changes. It allows you to shape history or crafting commits.\n",
    "\n",
    "3 different modes:\n",
    "\n",
    " - Soft: used to unstage the files which we have staged using the git add command.\n",
    " - Mixed: used to remove the files which we have committed using the git command.\n",
    " - Hard: used to remove all things which we have pushed in our code."
   ]
  },
  {
   "cell_type": "markdown",
   "metadata": {},
   "source": [
    "### STASHING\n",
    "\n",
    "Stashing saves a copy of your uncommited changes i.e. working area and staging area in a queue off to the side of your project.\n",
    "\n",
    "Example: git stash\n",
    "\n",
    " - git stash - move files to stash\n",
    " - git stash -u - move untracked files to stash\n",
    " - git stash save {\"Your Stash Name\"} - to name a stash for identification purposes\n",
    " - git stash list - list the created stashes\n",
    " - git stash show -p {stash@{no}} - show contents of the stash\n",
    " - git stash apply {stash@{no}} - to apply stash to another branch when switched to a new branch\n",
    " - git stash pop {stash@{id}} - to pop the stash\n",
    " - git stash drop {stash@{id}} - to drop stash\n",
    " - git stash clear - to clear all stashes"
   ]
  },
  {
   "cell_type": "markdown",
   "metadata": {},
   "source": [
    "### REFLOG\n",
    "\n",
    "REFLOG is a mechanism to record the changes in branches and saves the history. This command is to manage the information recorded in all branches. Every action you perform inside of Git where data is stored, you can find it inside of the reflog.\n",
    "\n",
    "- git reflog\n",
    "- gitk\n",
    "- gitk --all"
   ]
  }
 ],
 "metadata": {
  "language_info": {
   "name": "python"
  }
 },
 "nbformat": 4,
 "nbformat_minor": 2
}
