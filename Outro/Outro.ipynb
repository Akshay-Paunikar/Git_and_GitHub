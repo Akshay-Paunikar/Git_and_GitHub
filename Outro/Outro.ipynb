{
 "cells": [
  {
   "cell_type": "markdown",
   "metadata": {},
   "source": [
    "### Modify Recent Commits\n",
    "\n",
    "Git provides you the option to amend the last commit using:\n",
    " - git commit -amend\n",
    "\n",
    "Modifying the last commit\n",
    " - Helps in editing the commit message\n",
    " - You can add forgotten files in the last commit"
   ]
  },
  {
   "cell_type": "markdown",
   "metadata": {},
   "source": []
  }
 ],
 "metadata": {
  "language_info": {
   "name": "python"
  }
 },
 "nbformat": 4,
 "nbformat_minor": 2
}
